{
 "cells": [
  {
   "cell_type": "markdown",
   "id": "008af290",
   "metadata": {},
   "source": [
    "# Data Analysis with Pandas and Python \n",
    "\n",
    "## Start Up Notes\n",
    "\n",
    "- Get info about conda environments\n",
    "> conda info --envs\n",
    "\n",
    "- Update conda environment\n",
    "> conda update conda\n",
    "\n",
    "- Create new conda environment named tfs\n",
    "> conda create --name tfs\n",
    "\n",
    "- Activate environment tfs\n",
    "> conda activate tfs\n",
    "\n",
    "- Deactivate environment\n",
    "> conda deactivate\n",
    "\n",
    "- Install multiple libraries\n",
    "> conda install pandas jupyter bottleneck numexpr matplotlib\n",
    "\n",
    "- Update specific package\n",
    "> conda update pandas\n",
    "\n",
    "- Update all packages\n",
    "> conda update --all\n",
    "\n",
    "- Remove environment (add flag --all to remove all packages)\n",
    "> conda remove --name env_name --all"
   ]
  },
  {
   "cell_type": "markdown",
   "id": "5e22f7b3",
   "metadata": {},
   "source": [
    "## Jupyter Notebook Startup Process\n",
    "1. Open anaconda prompt\n",
    "2. Activate tfs env\n",
    "3. Launch jupyter notebook:\n",
    "> jupyter notebook\n",
    "4. Open / Create new jupyter notebook"
   ]
  },
  {
   "cell_type": "markdown",
   "id": "0cde4c5f",
   "metadata": {},
   "source": [
    "## Jupyter Shutdown Process\n",
    "1. Save notebook\n",
    "2. Close tab\n",
    "3. Shutdown notebook"
   ]
  }
 ],
 "metadata": {
  "kernelspec": {
   "display_name": "Python 3 (ipykernel)",
   "language": "python",
   "name": "python3"
  },
  "language_info": {
   "codemirror_mode": {
    "name": "ipython",
    "version": 3
   },
   "file_extension": ".py",
   "mimetype": "text/x-python",
   "name": "python",
   "nbconvert_exporter": "python",
   "pygments_lexer": "ipython3",
   "version": "3.10.0"
  }
 },
 "nbformat": 4,
 "nbformat_minor": 5
}
