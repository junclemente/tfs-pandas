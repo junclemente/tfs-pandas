{
 "cells": [
  {
   "cell_type": "code",
   "execution_count": 2,
   "id": "18643ed0",
   "metadata": {},
   "outputs": [],
   "source": [
    "# Create range of dates with pd.date_range() Method, part 1\n",
    "import pandas as pd\n",
    "import datetime as dt"
   ]
  },
  {
   "cell_type": "code",
   "execution_count": 4,
   "id": "0f7c9e77",
   "metadata": {},
   "outputs": [],
   "source": [
    "times = pd.date_range(start = \"2016-01-01\", end = \"2016-01-10\", freq = \"D\")"
   ]
  },
  {
   "cell_type": "code",
   "execution_count": 5,
   "id": "a9de5136",
   "metadata": {},
   "outputs": [
    {
     "data": {
      "text/plain": [
       "pandas.core.indexes.datetimes.DatetimeIndex"
      ]
     },
     "execution_count": 5,
     "metadata": {},
     "output_type": "execute_result"
    }
   ],
   "source": [
    "type(times)"
   ]
  },
  {
   "cell_type": "code",
   "execution_count": 6,
   "id": "a376d5af",
   "metadata": {},
   "outputs": [
    {
     "data": {
      "text/plain": [
       "pandas._libs.tslibs.timestamps.Timestamp"
      ]
     },
     "execution_count": 6,
     "metadata": {},
     "output_type": "execute_result"
    }
   ],
   "source": [
    "type(times[0])"
   ]
  },
  {
   "cell_type": "code",
   "execution_count": 13,
   "id": "dd7e7191",
   "metadata": {},
   "outputs": [
    {
     "data": {
      "text/plain": [
       "DatetimeIndex(['2016-01-01', '2016-01-04', '2016-01-05', '2016-01-06',\n",
       "               '2016-01-07', '2016-01-08'],\n",
       "              dtype='datetime64[ns]', freq='B')"
      ]
     },
     "execution_count": 13,
     "metadata": {},
     "output_type": "execute_result"
    }
   ],
   "source": [
    "times = pd.date_range(start = \"2016-01-01\", end = \"2016-01-10\", freq = \"B\")\n",
    "# D = Day, B = Business Days, W = Week, H = Hours, M = Month end, MS = Month start, A = Year end\n",
    "times"
   ]
  },
  {
   "cell_type": "code",
   "execution_count": 14,
   "id": "b5f63773",
   "metadata": {},
   "outputs": [
    {
     "data": {
      "text/plain": [
       "DatetimeIndex(['2012-09-09', '2012-09-10', '2012-09-11', '2012-09-12',\n",
       "               '2012-09-13', '2012-09-14', '2012-09-15', '2012-09-16',\n",
       "               '2012-09-17', '2012-09-18', '2012-09-19', '2012-09-20',\n",
       "               '2012-09-21', '2012-09-22', '2012-09-23', '2012-09-24',\n",
       "               '2012-09-25', '2012-09-26', '2012-09-27', '2012-09-28',\n",
       "               '2012-09-29', '2012-09-30', '2012-10-01', '2012-10-02',\n",
       "               '2012-10-03'],\n",
       "              dtype='datetime64[ns]', freq='D')"
      ]
     },
     "execution_count": 14,
     "metadata": {},
     "output_type": "execute_result"
    }
   ],
   "source": [
    "# pd.date_range(), part 2\n",
    "pd.date_range(start = \"2012-09-09\", periods = 25, freq = \"D\")"
   ]
  },
  {
   "cell_type": "code",
   "execution_count": null,
   "id": "3e1d2907",
   "metadata": {},
   "outputs": [],
   "source": []
  }
 ],
 "metadata": {
  "kernelspec": {
   "display_name": "Python 3 (ipykernel)",
   "language": "python",
   "name": "python3"
  },
  "language_info": {
   "codemirror_mode": {
    "name": "ipython",
    "version": 3
   },
   "file_extension": ".py",
   "mimetype": "text/x-python",
   "name": "python",
   "nbconvert_exporter": "python",
   "pygments_lexer": "ipython3",
   "version": "3.10.0"
  }
 },
 "nbformat": 4,
 "nbformat_minor": 5
}
